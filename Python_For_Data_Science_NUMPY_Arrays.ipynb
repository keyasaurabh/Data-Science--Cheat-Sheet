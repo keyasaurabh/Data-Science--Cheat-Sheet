{
  "nbformat": 4,
  "nbformat_minor": 0,
  "metadata": {
    "kernelspec": {
      "display_name": "Python 3",
      "language": "python",
      "name": "python3"
    },
    "language_info": {
      "codemirror_mode": {
        "name": "ipython",
        "version": 3
      },
      "file_extension": ".py",
      "mimetype": "text/x-python",
      "name": "python",
      "nbconvert_exporter": "python",
      "pygments_lexer": "ipython3",
      "version": "3.6.4"
    },
    "colab": {
      "name": "Python-For-Data-Science-NUMPY-Arrays.ipynb",
      "provenance": [],
      "include_colab_link": true
    }
  },
  "cells": [
    {
      "cell_type": "markdown",
      "metadata": {
        "id": "view-in-github",
        "colab_type": "text"
      },
      "source": [
        "<a href=\"https://colab.research.google.com/github/keyasaurabh/Data-Science--Cheat-Sheet/blob/master/Python_For_Data_Science_NUMPY_Arrays.ipynb\" target=\"_parent\"><img src=\"https://colab.research.google.com/assets/colab-badge.svg\" alt=\"Open In Colab\"/></a>"
      ]
    },
    {
      "cell_type": "code",
      "metadata": {
        "id": "rKYXvvlpAHwr",
        "colab_type": "code",
        "colab": {}
      },
      "source": [
        "### numpy arrays"
      ],
      "execution_count": 0,
      "outputs": []
    },
    {
      "cell_type": "code",
      "metadata": {
        "id": "Lta8lcpKAHwt",
        "colab_type": "code",
        "colab": {}
      },
      "source": [
        "### casting any list to an array"
      ],
      "execution_count": 0,
      "outputs": []
    },
    {
      "cell_type": "code",
      "metadata": {
        "id": "qR058SoqAHwu",
        "colab_type": "code",
        "colab": {}
      },
      "source": [
        "my_list1 = [1,2,3,4,5,5,7]\n",
        "my_list2 = [1,2,3,3,4,5,6]\n",
        "### in list you can chnage the value\n",
        "my_list2[0]=9\n",
        "my_list2"
      ],
      "execution_count": 0,
      "outputs": []
    },
    {
      "cell_type": "code",
      "metadata": {
        "id": "iYMZx37YAHww",
        "colab_type": "code",
        "colab": {}
      },
      "source": [
        "import numpy as np"
      ],
      "execution_count": 0,
      "outputs": []
    },
    {
      "cell_type": "code",
      "metadata": {
        "id": "OrK6sm7SAHwx",
        "colab_type": "code",
        "colab": {}
      },
      "source": [
        "mylstarr1 = np.array(my_list1)"
      ],
      "execution_count": 0,
      "outputs": []
    },
    {
      "cell_type": "code",
      "metadata": {
        "id": "m91T0_QxAHwy",
        "colab_type": "code",
        "colab": {}
      },
      "source": [
        "mylstarr2 = np.array(my_list2)"
      ],
      "execution_count": 0,
      "outputs": []
    },
    {
      "cell_type": "code",
      "metadata": {
        "id": "UhmKwTn5AHwz",
        "colab_type": "code",
        "colab": {
          "base_uri": "https://localhost:8080/",
          "height": 51
        },
        "outputId": "5f68abe8-9b32-49fa-9e4e-c6ccab1a0002"
      },
      "source": [
        "mylstarr1/mylstarr2"
      ],
      "execution_count": 5,
      "outputs": [
        {
          "output_type": "execute_result",
          "data": {
            "text/plain": [
              "array([1.        , 1.        , 1.        , 1.33333333, 1.25      ,\n",
              "       1.        , 1.16666667])"
            ]
          },
          "metadata": {
            "tags": []
          },
          "execution_count": 5
        }
      ]
    },
    {
      "cell_type": "code",
      "metadata": {
        "id": "gL7fxZPIAHw1",
        "colab_type": "code",
        "colab": {}
      },
      "source": [
        "arr = np.array(my_list1)\n",
        "arr\n",
        "print(arr)"
      ],
      "execution_count": 0,
      "outputs": []
    },
    {
      "cell_type": "code",
      "metadata": {
        "id": "Y2yTyvEIV0a1",
        "colab_type": "code",
        "colab": {
          "base_uri": "https://localhost:8080/",
          "height": 34
        },
        "outputId": "4b540829-f7bc-4ff8-e4fd-d9b1688cab51"
      },
      "source": [
        "arr.sum()### you cannot do for list"
      ],
      "execution_count": 69,
      "outputs": [
        {
          "output_type": "execute_result",
          "data": {
            "text/plain": [
              "27"
            ]
          },
          "metadata": {
            "tags": []
          },
          "execution_count": 69
        }
      ]
    },
    {
      "cell_type": "code",
      "metadata": {
        "id": "qnrfvoLcAHw2",
        "colab_type": "code",
        "colab": {}
      },
      "source": [
        "### casting any list to a matrix"
      ],
      "execution_count": 0,
      "outputs": []
    },
    {
      "cell_type": "code",
      "metadata": {
        "id": "e1ioTOfqAHw4",
        "colab_type": "code",
        "colab": {}
      },
      "source": [
        "my_mat =  [[1,2,3],[4,5,6],[7,8,9]]"
      ],
      "execution_count": 0,
      "outputs": []
    },
    {
      "cell_type": "code",
      "metadata": {
        "id": "qnJFT5phAHw5",
        "colab_type": "code",
        "colab": {}
      },
      "source": [
        "np.array(my_mat)"
      ],
      "execution_count": 0,
      "outputs": []
    },
    {
      "cell_type": "code",
      "metadata": {
        "id": "T_si2QTtRXOo",
        "colab_type": "code",
        "colab": {
          "base_uri": "https://localhost:8080/",
          "height": 34
        },
        "outputId": "66ad4977-084e-40b7-9bd4-c71c59ab098e"
      },
      "source": [
        "np.sum(my_mat) ###sum of all no"
      ],
      "execution_count": 64,
      "outputs": [
        {
          "output_type": "execute_result",
          "data": {
            "text/plain": [
              "45"
            ]
          },
          "metadata": {
            "tags": []
          },
          "execution_count": 64
        }
      ]
    },
    {
      "cell_type": "code",
      "metadata": {
        "id": "6Fd5hSknVeL9",
        "colab_type": "code",
        "colab": {}
      },
      "source": [
        ""
      ],
      "execution_count": 0,
      "outputs": []
    },
    {
      "cell_type": "code",
      "metadata": {
        "id": "qRKYOqGgAHw6",
        "colab_type": "code",
        "colab": {}
      },
      "source": [
        "## np range function ==similar to python range"
      ],
      "execution_count": 0,
      "outputs": []
    },
    {
      "cell_type": "code",
      "metadata": {
        "id": "YBdDH_NWAHw7",
        "colab_type": "code",
        "colab": {
          "base_uri": "https://localhost:8080/",
          "height": 34
        },
        "outputId": "778f4415-8df3-4888-8076-338f1364ce51"
      },
      "source": [
        "np.arange(0,11,2)   ### creates an array from 0 thru 11 in steps of 2. note, 11 is excluded here."
      ],
      "execution_count": 10,
      "outputs": [
        {
          "output_type": "execute_result",
          "data": {
            "text/plain": [
              "array([ 0,  2,  4,  6,  8, 10])"
            ]
          },
          "metadata": {
            "tags": []
          },
          "execution_count": 10
        }
      ]
    },
    {
      "cell_type": "code",
      "metadata": {
        "id": "3am_EMmLAHw8",
        "colab_type": "code",
        "colab": {
          "base_uri": "https://localhost:8080/",
          "height": 34
        },
        "outputId": "01038f65-ee93-42e8-f294-93390206a148"
      },
      "source": [
        "np.array([1,2],dtype=int)"
      ],
      "execution_count": 30,
      "outputs": [
        {
          "output_type": "execute_result",
          "data": {
            "text/plain": [
              "array([1, 2])"
            ]
          },
          "metadata": {
            "tags": []
          },
          "execution_count": 30
        }
      ]
    },
    {
      "cell_type": "code",
      "metadata": {
        "id": "-BGDan87AHw9",
        "colab_type": "code",
        "colab": {}
      },
      "source": [
        "###to generate array of zeros"
      ],
      "execution_count": 0,
      "outputs": []
    },
    {
      "cell_type": "code",
      "metadata": {
        "id": "Yexv_BwnAHw9",
        "colab_type": "code",
        "colab": {
          "base_uri": "https://localhost:8080/",
          "height": 34
        },
        "outputId": "f4c097e1-2345-4253-b232-20d257a43ce6"
      },
      "source": [
        "np.zeros(3)  ## 2 dimensional array\n",
        " "
      ],
      "execution_count": 11,
      "outputs": [
        {
          "output_type": "execute_result",
          "data": {
            "text/plain": [
              "array([0., 0., 0.])"
            ]
          },
          "metadata": {
            "tags": []
          },
          "execution_count": 11
        }
      ]
    },
    {
      "cell_type": "code",
      "metadata": {
        "id": "j4Salf3PAHw-",
        "colab_type": "code",
        "colab": {
          "base_uri": "https://localhost:8080/",
          "height": 51
        },
        "outputId": "3b72e41d-3cdc-4ca8-ca63-b37ba961134b"
      },
      "source": [
        "np.zeros((2,3))"
      ],
      "execution_count": 12,
      "outputs": [
        {
          "output_type": "execute_result",
          "data": {
            "text/plain": [
              "array([[0., 0., 0.],\n",
              "       [0., 0., 0.]])"
            ]
          },
          "metadata": {
            "tags": []
          },
          "execution_count": 12
        }
      ]
    },
    {
      "cell_type": "code",
      "metadata": {
        "id": "ouLmAY_lAimf",
        "colab_type": "code",
        "colab": {
          "base_uri": "https://localhost:8080/",
          "height": 136
        },
        "outputId": "b036fa83-0199-4e50-edc0-d7f927a1e66a"
      },
      "source": [
        "np.zeros((2,3,4))"
      ],
      "execution_count": 13,
      "outputs": [
        {
          "output_type": "execute_result",
          "data": {
            "text/plain": [
              "array([[[0., 0., 0., 0.],\n",
              "        [0., 0., 0., 0.],\n",
              "        [0., 0., 0., 0.]],\n",
              "\n",
              "       [[0., 0., 0., 0.],\n",
              "        [0., 0., 0., 0.],\n",
              "        [0., 0., 0., 0.]]])"
            ]
          },
          "metadata": {
            "tags": []
          },
          "execution_count": 13
        }
      ]
    },
    {
      "cell_type": "code",
      "metadata": {
        "id": "MQCdpJG9AHw_",
        "colab_type": "code",
        "colab": {
          "base_uri": "https://localhost:8080/",
          "height": 102
        },
        "outputId": "50f96e52-9e39-45d7-b7ed-9c1648a864ff"
      },
      "source": [
        "#### arrays of ones\n",
        "print(np.ones(4))\n",
        "print('\\n')\n",
        "print(np.ones((2,3)))\n"
      ],
      "execution_count": 14,
      "outputs": [
        {
          "output_type": "stream",
          "text": [
            "[1. 1. 1. 1.]\n",
            "\n",
            "\n",
            "[[1. 1. 1.]\n",
            " [1. 1. 1.]]\n"
          ],
          "name": "stdout"
        }
      ]
    },
    {
      "cell_type": "code",
      "metadata": {
        "id": "b8PMZuydAHxA",
        "colab_type": "code",
        "colab": {
          "base_uri": "https://localhost:8080/",
          "height": 204
        },
        "outputId": "2de7905c-0567-436f-a714-0c88576e8259"
      },
      "source": [
        "np.zeros((3,3,3))  ### 3 dimensional array by giving a tuple within np.array command"
      ],
      "execution_count": 15,
      "outputs": [
        {
          "output_type": "execute_result",
          "data": {
            "text/plain": [
              "array([[[0., 0., 0.],\n",
              "        [0., 0., 0.],\n",
              "        [0., 0., 0.]],\n",
              "\n",
              "       [[0., 0., 0.],\n",
              "        [0., 0., 0.],\n",
              "        [0., 0., 0.]],\n",
              "\n",
              "       [[0., 0., 0.],\n",
              "        [0., 0., 0.],\n",
              "        [0., 0., 0.]]])"
            ]
          },
          "metadata": {
            "tags": []
          },
          "execution_count": 15
        }
      ]
    },
    {
      "cell_type": "code",
      "metadata": {
        "id": "mBPgTO0kAHxB",
        "colab_type": "code",
        "colab": {
          "base_uri": "https://localhost:8080/",
          "height": 51
        },
        "outputId": "f31be56b-be83-45d8-bbfc-56e3db7f9c7f"
      },
      "source": [
        "### creating empty array. not much of a use. caution to be exercised\n",
        "arrempt1=np.empty((2,3))\n",
        "arrempt1           ##### creates random numbers..."
      ],
      "execution_count": 19,
      "outputs": [
        {
          "output_type": "execute_result",
          "data": {
            "text/plain": [
              "array([[1., 1., 1.],\n",
              "       [1., 1., 1.]])"
            ]
          },
          "metadata": {
            "tags": []
          },
          "execution_count": 19
        }
      ]
    },
    {
      "cell_type": "code",
      "metadata": {
        "id": "Z1YH9T-bAHxC",
        "colab_type": "code",
        "colab": {
          "base_uri": "https://localhost:8080/",
          "height": 34
        },
        "outputId": "9a4dd2df-8d47-44c8-cb7b-b3dda86a5906"
      },
      "source": [
        "###3 linearly (Equal) sapced data elements\n",
        "np.linspace(4,15,12)  \n",
        "\n",
        "### outputs a 2d array with number of evenly spaced points from 0 to 5. 10 indicates the number of such points"
      ],
      "execution_count": 16,
      "outputs": [
        {
          "output_type": "execute_result",
          "data": {
            "text/plain": [
              "array([ 4.,  5.,  6.,  7.,  8.,  9., 10., 11., 12., 13., 14., 15.])"
            ]
          },
          "metadata": {
            "tags": []
          },
          "execution_count": 16
        }
      ]
    },
    {
      "cell_type": "code",
      "metadata": {
        "id": "w_AwBdrsAHxD",
        "colab_type": "code",
        "colab": {}
      },
      "source": [
        "##identity matrix"
      ],
      "execution_count": 0,
      "outputs": []
    },
    {
      "cell_type": "code",
      "metadata": {
        "id": "CNgnFyLPAHxD",
        "colab_type": "code",
        "colab": {
          "base_uri": "https://localhost:8080/",
          "height": 85
        },
        "outputId": "ea619aee-c850-49a8-d419-bc63b1c04b50"
      },
      "source": [
        "np.eye(4)"
      ],
      "execution_count": 21,
      "outputs": [
        {
          "output_type": "execute_result",
          "data": {
            "text/plain": [
              "array([[1., 0., 0., 0.],\n",
              "       [0., 1., 0., 0.],\n",
              "       [0., 0., 1., 0.],\n",
              "       [0., 0., 0., 1.]])"
            ]
          },
          "metadata": {
            "tags": []
          },
          "execution_count": 21
        }
      ]
    },
    {
      "cell_type": "code",
      "metadata": {
        "id": "5K9YB-VGAHxF",
        "colab_type": "code",
        "colab": {
          "base_uri": "https://localhost:8080/",
          "height": 51
        },
        "outputId": "9817cca2-7ba9-47a5-f3ea-d394b884d075"
      },
      "source": [
        "np.random.rand(10)  ### creates one dim array of 10 evenly random numbers between 0 and 10 excluding 0 and 1\n",
        "np.random()\n"
      ],
      "execution_count": 25,
      "outputs": [
        {
          "output_type": "execute_result",
          "data": {
            "text/plain": [
              "array([0.8159357 , 0.73024186, 0.92455996, 0.84563509, 0.96009067,\n",
              "       0.34129466, 0.5488559 , 0.47086438, 0.84512799, 0.69511189])"
            ]
          },
          "metadata": {
            "tags": []
          },
          "execution_count": 25
        }
      ]
    },
    {
      "cell_type": "code",
      "metadata": {
        "id": "Px6a5tp7AHxG",
        "colab_type": "code",
        "colab": {},
        "outputId": "b109e1ef-df23-48ad-da99-95a3e27a8617"
      },
      "source": [
        "np.random.randint(1,100)  ### returns random integer from 1 to 100. includes 1 and excludes 100"
      ],
      "execution_count": 0,
      "outputs": [
        {
          "output_type": "execute_result",
          "data": {
            "text/plain": [
              "64"
            ]
          },
          "metadata": {
            "tags": []
          },
          "execution_count": 237
        }
      ]
    },
    {
      "cell_type": "code",
      "metadata": {
        "id": "81b5p3AAAHxI",
        "colab_type": "code",
        "colab": {},
        "outputId": "28e8a8f1-9524-40f5-9ec5-2236616cfad0"
      },
      "source": [
        "np.random.randn(1,10)"
      ],
      "execution_count": 0,
      "outputs": [
        {
          "output_type": "execute_result",
          "data": {
            "text/plain": [
              "array([[-0.06652894, -1.57074937,  2.27126977,  0.24725484,  1.1193266 ,\n",
              "         0.35210431,  1.9868602 ,  0.90100778,  0.12191711,  0.63347925]])"
            ]
          },
          "metadata": {
            "tags": []
          },
          "execution_count": 238
        }
      ]
    },
    {
      "cell_type": "code",
      "metadata": {
        "id": "GwypdIRDAHxJ",
        "colab_type": "code",
        "colab": {},
        "outputId": "1087b50b-09b9-4297-a829-b2b8d0743aba"
      },
      "source": [
        "np.random.randint(1,100,10)  ### returns 10 random integer from 1 to 100 "
      ],
      "execution_count": 0,
      "outputs": [
        {
          "output_type": "execute_result",
          "data": {
            "text/plain": [
              "array([98, 27, 99, 34, 28, 47, 84, 79,  2, 25])"
            ]
          },
          "metadata": {
            "tags": []
          },
          "execution_count": 29
        }
      ]
    },
    {
      "cell_type": "code",
      "metadata": {
        "id": "zPsK_cRqAHxK",
        "colab_type": "code",
        "colab": {},
        "outputId": "eee5cded-4656-4051-9b8e-5576cb36ce2f"
      },
      "source": [
        "arr = np.arange(25)\n",
        "arr"
      ],
      "execution_count": 0,
      "outputs": [
        {
          "output_type": "execute_result",
          "data": {
            "text/plain": [
              "array([ 0,  1,  2,  3,  4,  5,  6,  7,  8,  9, 10, 11, 12, 13, 14, 15, 16,\n",
              "       17, 18, 19, 20, 21, 22, 23, 24])"
            ]
          },
          "metadata": {
            "tags": []
          },
          "execution_count": 45
        }
      ]
    },
    {
      "cell_type": "code",
      "metadata": {
        "id": "u7kAJgpaAHxL",
        "colab_type": "code",
        "colab": {},
        "outputId": "5f865937-9779-4ef2-db3e-fd58045a31de"
      },
      "source": [
        "arr.ndim"
      ],
      "execution_count": 0,
      "outputs": [
        {
          "output_type": "execute_result",
          "data": {
            "text/plain": [
              "1"
            ]
          },
          "metadata": {
            "tags": []
          },
          "execution_count": 46
        }
      ]
    },
    {
      "cell_type": "code",
      "metadata": {
        "id": "XcX914DnAHxM",
        "colab_type": "code",
        "colab": {},
        "outputId": "96faa97e-215a-468e-f8f2-83ba81cf1c78"
      },
      "source": [
        "ranarr1 = np.random.randint(0,50,10)\n",
        "ranarr1"
      ],
      "execution_count": 0,
      "outputs": [
        {
          "output_type": "execute_result",
          "data": {
            "text/plain": [
              "array([ 0, 36, 15, 28, 14, 26,  0, 43, 41, 14])"
            ]
          },
          "metadata": {
            "tags": []
          },
          "execution_count": 31
        }
      ]
    },
    {
      "cell_type": "code",
      "metadata": {
        "id": "sVQUmC31AHxN",
        "colab_type": "code",
        "colab": {},
        "outputId": "b6ee6504-6c83-4a27-c80b-dac70fa55eb1"
      },
      "source": [
        "print(arr.shape)\n",
        "\n",
        "print(type(arr.shape))"
      ],
      "execution_count": 0,
      "outputs": [
        {
          "output_type": "stream",
          "text": [
            "(25,)\n",
            "<class 'tuple'>\n"
          ],
          "name": "stdout"
        }
      ]
    },
    {
      "cell_type": "code",
      "metadata": {
        "id": "6rvMgf0sAHxO",
        "colab_type": "code",
        "colab": {},
        "outputId": "98cc5695-8c4e-49e7-9614-98fea25888ae"
      },
      "source": [
        "arr.ndim"
      ],
      "execution_count": 0,
      "outputs": [
        {
          "output_type": "execute_result",
          "data": {
            "text/plain": [
              "1"
            ]
          },
          "metadata": {
            "tags": []
          },
          "execution_count": 35
        }
      ]
    },
    {
      "cell_type": "code",
      "metadata": {
        "id": "O5uiJ1gRAHxQ",
        "colab_type": "code",
        "colab": {},
        "outputId": "4f8fa6ab-ea87-407e-ca33-99bcf46632ac"
      },
      "source": [
        "print(arr.size)\n",
        "print(type(arr.size))"
      ],
      "execution_count": 0,
      "outputs": [
        {
          "output_type": "stream",
          "text": [
            "25\n",
            "<class 'int'>\n"
          ],
          "name": "stdout"
        }
      ]
    },
    {
      "cell_type": "code",
      "metadata": {
        "id": "TDkUng2cAHxR",
        "colab_type": "code",
        "colab": {},
        "outputId": "329be907-c049-43ac-fa88-de342b26f872"
      },
      "source": [
        "arr"
      ],
      "execution_count": 0,
      "outputs": [
        {
          "output_type": "execute_result",
          "data": {
            "text/plain": [
              "array([ 0,  1,  2,  3,  4,  5,  6,  7,  8,  9, 10, 11, 12, 13, 14, 15, 16,\n",
              "       17, 18, 19, 20, 21, 22, 23, 24])"
            ]
          },
          "metadata": {
            "tags": []
          },
          "execution_count": 62
        }
      ]
    },
    {
      "cell_type": "code",
      "metadata": {
        "id": "GgGEh70mAHxS",
        "colab_type": "code",
        "colab": {},
        "outputId": "aeef70e6-6c1a-4148-dfcd-0ad0bdef223c"
      },
      "source": [
        "print(arr.ndim)"
      ],
      "execution_count": 0,
      "outputs": [
        {
          "output_type": "stream",
          "text": [
            "1\n"
          ],
          "name": "stdout"
        }
      ]
    },
    {
      "cell_type": "code",
      "metadata": {
        "id": "OKejNebuAHxS",
        "colab_type": "code",
        "colab": {},
        "outputId": "ac604ace-bfb1-4910-ec43-dee6d032f0e2"
      },
      "source": [
        "arr.reshape(5,5)"
      ],
      "execution_count": 0,
      "outputs": [
        {
          "output_type": "execute_result",
          "data": {
            "text/plain": [
              "array([[ 0,  1,  2,  3,  4],\n",
              "       [ 5,  6,  7,  8,  9],\n",
              "       [10, 11, 12, 13, 14],\n",
              "       [15, 16, 17, 18, 19],\n",
              "       [20, 21, 22, 23, 24]])"
            ]
          },
          "metadata": {
            "tags": []
          },
          "execution_count": 166
        }
      ]
    },
    {
      "cell_type": "code",
      "metadata": {
        "id": "rGlp35KiAHxT",
        "colab_type": "code",
        "colab": {},
        "outputId": "0eb9c702-61f0-4ac7-b41d-36bd5c440c60"
      },
      "source": [
        "arr.reshape(5,5).argmax()"
      ],
      "execution_count": 0,
      "outputs": [
        {
          "output_type": "execute_result",
          "data": {
            "text/plain": [
              "24"
            ]
          },
          "metadata": {
            "tags": []
          },
          "execution_count": 170
        }
      ]
    },
    {
      "cell_type": "code",
      "metadata": {
        "id": "7LBiLcESAHxU",
        "colab_type": "code",
        "colab": {},
        "outputId": "049a70c3-35d7-40ac-aeb4-1947d85ad6bb"
      },
      "source": [
        "arr"
      ],
      "execution_count": 0,
      "outputs": [
        {
          "output_type": "execute_result",
          "data": {
            "text/plain": [
              "array([ 0,  1,  2,  3,  4,  5,  6,  7,  8,  9, 10, 11, 12, 13, 14, 15, 16,\n",
              "       17, 18, 19, 20, 21, 22, 23, 24])"
            ]
          },
          "metadata": {
            "tags": []
          },
          "execution_count": 171
        }
      ]
    },
    {
      "cell_type": "code",
      "metadata": {
        "id": "ymG8_M9EAHxU",
        "colab_type": "code",
        "colab": {},
        "outputId": "ab4cc2d4-9dd2-4b37-9467-17127dfcbe80"
      },
      "source": [
        "print(arr.ndim)"
      ],
      "execution_count": 0,
      "outputs": [
        {
          "output_type": "stream",
          "text": [
            "1\n"
          ],
          "name": "stdout"
        }
      ]
    },
    {
      "cell_type": "code",
      "metadata": {
        "id": "SzewpjO0AHxV",
        "colab_type": "code",
        "colab": {}
      },
      "source": [
        "#print(arr.re)"
      ],
      "execution_count": 0,
      "outputs": []
    },
    {
      "cell_type": "code",
      "metadata": {
        "id": "JbfODvyPAHxW",
        "colab_type": "code",
        "colab": {},
        "outputId": "6b595733-892f-4123-feb3-7116f0c56b2b"
      },
      "source": [
        "arr_2d.ndim"
      ],
      "execution_count": 0,
      "outputs": [
        {
          "output_type": "execute_result",
          "data": {
            "text/plain": [
              "2"
            ]
          },
          "metadata": {
            "tags": []
          },
          "execution_count": 49
        }
      ]
    },
    {
      "cell_type": "code",
      "metadata": {
        "id": "GIXsEB-aAHxX",
        "colab_type": "code",
        "colab": {},
        "outputId": "294e417c-789c-4780-a38f-8168255f6d50"
      },
      "source": [
        "print(ranarr1)\n",
        "print(ranarr1.max())"
      ],
      "execution_count": 0,
      "outputs": [
        {
          "output_type": "stream",
          "text": [
            "[ 0 36 15 28 14 26  0 43 41 14]\n",
            "43\n"
          ],
          "name": "stdout"
        }
      ]
    },
    {
      "cell_type": "code",
      "metadata": {
        "id": "KeWMppKdAHxY",
        "colab_type": "code",
        "colab": {}
      },
      "source": [
        ""
      ],
      "execution_count": 0,
      "outputs": []
    },
    {
      "cell_type": "code",
      "metadata": {
        "id": "6D0KeZvwAHxY",
        "colab_type": "code",
        "colab": {},
        "outputId": "0d8acbe4-7cc4-4e6c-9467-62ed1021c812"
      },
      "source": [
        "ranarr1.min()"
      ],
      "execution_count": 0,
      "outputs": [
        {
          "output_type": "execute_result",
          "data": {
            "text/plain": [
              "0"
            ]
          },
          "metadata": {
            "tags": []
          },
          "execution_count": 54
        }
      ]
    },
    {
      "cell_type": "code",
      "metadata": {
        "id": "JWzTw6MeAHxZ",
        "colab_type": "code",
        "colab": {},
        "outputId": "a57dd43f-bb86-485e-c576-f7e9f9daedc8"
      },
      "source": [
        "print(ranarr1)\n",
        "print(ranarr1.argmax())"
      ],
      "execution_count": 0,
      "outputs": [
        {
          "output_type": "stream",
          "text": [
            "[ 0 36 15 28 14 26  0 43 41 14]\n",
            "7\n"
          ],
          "name": "stdout"
        }
      ]
    },
    {
      "cell_type": "code",
      "metadata": {
        "id": "gWKCrgQkAHxa",
        "colab_type": "code",
        "colab": {},
        "outputId": "f87fb2e1-1983-4b67-fae7-b3c3356a2c14"
      },
      "source": [
        "ranarr1.argmin()"
      ],
      "execution_count": 0,
      "outputs": [
        {
          "output_type": "execute_result",
          "data": {
            "text/plain": [
              "0"
            ]
          },
          "metadata": {
            "tags": []
          },
          "execution_count": 56
        }
      ]
    },
    {
      "cell_type": "code",
      "metadata": {
        "id": "Sp39N3BVAHxa",
        "colab_type": "code",
        "colab": {}
      },
      "source": [
        "#### to find the dimension of an array\n",
        "np_city =  np.array(['nyc','la','houston'])"
      ],
      "execution_count": 0,
      "outputs": []
    },
    {
      "cell_type": "code",
      "metadata": {
        "id": "_fq_EdyJAHxb",
        "colab_type": "code",
        "colab": {
          "base_uri": "https://localhost:8080/",
          "height": 34
        },
        "outputId": "9b9b742f-93b0-4c90-e5f8-0552de1353a0"
      },
      "source": [
        "np_city.ndim"
      ],
      "execution_count": 51,
      "outputs": [
        {
          "output_type": "execute_result",
          "data": {
            "text/plain": [
              "1"
            ]
          },
          "metadata": {
            "tags": []
          },
          "execution_count": 51
        }
      ]
    },
    {
      "cell_type": "code",
      "metadata": {
        "scrolled": true,
        "id": "ykIw4ofUAHxc",
        "colab_type": "code",
        "colab": {
          "base_uri": "https://localhost:8080/",
          "height": 34
        },
        "outputId": "99bb3483-d2b9-4686-88f3-a6e2b807303f"
      },
      "source": [
        "len(np_city)"
      ],
      "execution_count": 52,
      "outputs": [
        {
          "output_type": "execute_result",
          "data": {
            "text/plain": [
              "3"
            ]
          },
          "metadata": {
            "tags": []
          },
          "execution_count": 52
        }
      ]
    },
    {
      "cell_type": "code",
      "metadata": {
        "id": "0tWJoeWwAHxc",
        "colab_type": "code",
        "colab": {
          "base_uri": "https://localhost:8080/",
          "height": 34
        },
        "outputId": "71f8d801-4737-4095-b8e3-23bbf721a4b0"
      },
      "source": [
        "np_city.shape           #### gives the length and the dimension of array"
      ],
      "execution_count": 53,
      "outputs": [
        {
          "output_type": "execute_result",
          "data": {
            "text/plain": [
              "(3,)"
            ]
          },
          "metadata": {
            "tags": []
          },
          "execution_count": 53
        }
      ]
    },
    {
      "cell_type": "code",
      "metadata": {
        "id": "IIRUcueBAHxd",
        "colab_type": "code",
        "colab": {}
      },
      "source": [
        "np_countries = np.array([['brazil','portugal','morrocco'],['egypt','iran','spain'],['russia','uae','argentina']])"
      ],
      "execution_count": 0,
      "outputs": []
    },
    {
      "cell_type": "code",
      "metadata": {
        "id": "0kEjQSSKAHxe",
        "colab_type": "code",
        "colab": {
          "base_uri": "https://localhost:8080/",
          "height": 34
        },
        "outputId": "1794b01a-4da2-4928-9fe7-42708aa081d8"
      },
      "source": [
        "np_countries.shape"
      ],
      "execution_count": 55,
      "outputs": [
        {
          "output_type": "execute_result",
          "data": {
            "text/plain": [
              "(3, 3)"
            ]
          },
          "metadata": {
            "tags": []
          },
          "execution_count": 55
        }
      ]
    },
    {
      "cell_type": "code",
      "metadata": {
        "id": "9UiEJ5bLAHxe",
        "colab_type": "code",
        "colab": {
          "base_uri": "https://localhost:8080/",
          "height": 34
        },
        "outputId": "0660a9fc-1f98-4590-e877-fbab8a5e13a3"
      },
      "source": [
        "np_countries.ndim"
      ],
      "execution_count": 56,
      "outputs": [
        {
          "output_type": "execute_result",
          "data": {
            "text/plain": [
              "2"
            ]
          },
          "metadata": {
            "tags": []
          },
          "execution_count": 56
        }
      ]
    },
    {
      "cell_type": "code",
      "metadata": {
        "id": "NqXMKujGAHxf",
        "colab_type": "code",
        "colab": {
          "base_uri": "https://localhost:8080/",
          "height": 34
        },
        "outputId": "93d18c94-d445-46ff-fb64-5043b365b086"
      },
      "source": [
        "np_countries.size"
      ],
      "execution_count": 57,
      "outputs": [
        {
          "output_type": "execute_result",
          "data": {
            "text/plain": [
              "9"
            ]
          },
          "metadata": {
            "tags": []
          },
          "execution_count": 57
        }
      ]
    },
    {
      "cell_type": "code",
      "metadata": {
        "id": "_VVmUp19AHxg",
        "colab_type": "code",
        "colab": {
          "base_uri": "https://localhost:8080/",
          "height": 34
        },
        "outputId": "d0fc9fc3-d69d-497d-bedf-c6eab1b7b1e1"
      },
      "source": [
        "np_city.size"
      ],
      "execution_count": 58,
      "outputs": [
        {
          "output_type": "execute_result",
          "data": {
            "text/plain": [
              "3"
            ]
          },
          "metadata": {
            "tags": []
          },
          "execution_count": 58
        }
      ]
    },
    {
      "cell_type": "code",
      "metadata": {
        "id": "U-Br4fJvAHxh",
        "colab_type": "code",
        "colab": {}
      },
      "source": [
        "len(np_countries)  ##### gives me the length of 2 dimensional array which is 3 lists"
      ],
      "execution_count": 0,
      "outputs": []
    },
    {
      "cell_type": "code",
      "metadata": {
        "id": "tnpR1eMRAHxh",
        "colab_type": "code",
        "colab": {}
      },
      "source": [
        "np_city.shape"
      ],
      "execution_count": 0,
      "outputs": []
    },
    {
      "cell_type": "code",
      "metadata": {
        "id": "IXgKuBYzAHxi",
        "colab_type": "code",
        "colab": {},
        "outputId": "381ada4c-0fab-4993-f675-9df5b77aecf7"
      },
      "source": [
        "np_countries.dtype"
      ],
      "execution_count": 0,
      "outputs": [
        {
          "output_type": "execute_result",
          "data": {
            "text/plain": [
              "dtype('<U9')"
            ]
          },
          "metadata": {
            "tags": []
          },
          "execution_count": 174
        }
      ]
    },
    {
      "cell_type": "code",
      "metadata": {
        "id": "nUERWur3AHxj",
        "colab_type": "code",
        "colab": {
          "base_uri": "https://localhost:8080/",
          "height": 34
        },
        "outputId": "5b29ee7e-f516-454e-a3d5-04ef53c28320"
      },
      "source": [
        "import numpy as np\n",
        "x=[1,2,3]\n",
        "#a=np.asarray(x)\n",
        "a= np.array(x)\n",
        "print(a)"
      ],
      "execution_count": 36,
      "outputs": [
        {
          "output_type": "stream",
          "text": [
            "[1 2 3]\n"
          ],
          "name": "stdout"
        }
      ]
    },
    {
      "cell_type": "code",
      "metadata": {
        "id": "DpuHNqiaAHxk",
        "colab_type": "code",
        "colab": {}
      },
      "source": [
        ""
      ],
      "execution_count": 0,
      "outputs": []
    },
    {
      "cell_type": "code",
      "metadata": {
        "id": "IaWsrHtxAHxk",
        "colab_type": "code",
        "colab": {}
      },
      "source": [
        ""
      ],
      "execution_count": 0,
      "outputs": []
    },
    {
      "cell_type": "code",
      "metadata": {
        "id": "cQWLFHXhAHxl",
        "colab_type": "code",
        "colab": {}
      },
      "source": [
        "my_arr1 = np.arange(25)"
      ],
      "execution_count": 0,
      "outputs": []
    },
    {
      "cell_type": "code",
      "metadata": {
        "id": "g3EWNXvIAHxl",
        "colab_type": "code",
        "colab": {
          "base_uri": "https://localhost:8080/",
          "height": 51
        },
        "outputId": "c039ceac-705a-4987-e3cf-65ebe170d02d"
      },
      "source": [
        "my_arr1"
      ],
      "execution_count": 38,
      "outputs": [
        {
          "output_type": "execute_result",
          "data": {
            "text/plain": [
              "array([ 0,  1,  2,  3,  4,  5,  6,  7,  8,  9, 10, 11, 12, 13, 14, 15, 16,\n",
              "       17, 18, 19, 20, 21, 22, 23, 24])"
            ]
          },
          "metadata": {
            "tags": []
          },
          "execution_count": 38
        }
      ]
    },
    {
      "cell_type": "code",
      "metadata": {
        "id": "omOJw0kcAHxm",
        "colab_type": "code",
        "colab": {
          "base_uri": "https://localhost:8080/",
          "height": 102
        },
        "outputId": "44c33309-401a-41a2-9d1a-8f0be9f830fa"
      },
      "source": [
        "my_arr1.reshape(5,5)"
      ],
      "execution_count": 39,
      "outputs": [
        {
          "output_type": "execute_result",
          "data": {
            "text/plain": [
              "array([[ 0,  1,  2,  3,  4],\n",
              "       [ 5,  6,  7,  8,  9],\n",
              "       [10, 11, 12, 13, 14],\n",
              "       [15, 16, 17, 18, 19],\n",
              "       [20, 21, 22, 23, 24]])"
            ]
          },
          "metadata": {
            "tags": []
          },
          "execution_count": 39
        }
      ]
    },
    {
      "cell_type": "code",
      "metadata": {
        "id": "PEkhyBJnAHxn",
        "colab_type": "code",
        "colab": {}
      },
      "source": [
        "##### indexing and slicing with 2 dimensional array"
      ],
      "execution_count": 0,
      "outputs": []
    },
    {
      "cell_type": "code",
      "metadata": {
        "id": "UiitJAUKAHxo",
        "colab_type": "code",
        "colab": {}
      },
      "source": [
        "array_2d = np.array([[5,10,15],[20,25,30],[34,49,29]])"
      ],
      "execution_count": 0,
      "outputs": []
    },
    {
      "cell_type": "code",
      "metadata": {
        "id": "LuDdw90xAHxp",
        "colab_type": "code",
        "colab": {},
        "outputId": "ac5b78c8-ac31-4031-e234-6c406ce2b142"
      },
      "source": [
        "array_2d"
      ],
      "execution_count": 0,
      "outputs": [
        {
          "output_type": "execute_result",
          "data": {
            "text/plain": [
              "array([[ 5, 10, 15],\n",
              "       [20, 25, 30],\n",
              "       [34, 49, 29]])"
            ]
          },
          "metadata": {
            "tags": []
          },
          "execution_count": 80
        }
      ]
    },
    {
      "cell_type": "code",
      "metadata": {
        "id": "6ZDMhSpHAHxp",
        "colab_type": "code",
        "colab": {},
        "outputId": "fe66d904-38dd-449c-cb96-4d1b39cde47c"
      },
      "source": [
        "#### if we want to extract 10,15,25,30 from the 2d array\n",
        "print(array_2d[:1,1:])\n",
        "\n"
      ],
      "execution_count": 0,
      "outputs": [
        {
          "output_type": "stream",
          "text": [
            "[[10 15]]\n"
          ],
          "name": "stdout"
        }
      ]
    },
    {
      "cell_type": "code",
      "metadata": {
        "id": "UQo5zcbYAHxr",
        "colab_type": "code",
        "colab": {},
        "outputId": "7d897cbd-f931-45ac-8174-22dee3fb04ca"
      },
      "source": [
        "print(array_2d[1:])"
      ],
      "execution_count": 0,
      "outputs": [
        {
          "output_type": "stream",
          "text": [
            "[[20 25 30]\n",
            " [34 49 29]]\n"
          ],
          "name": "stdout"
        }
      ]
    },
    {
      "cell_type": "code",
      "metadata": {
        "id": "JosjDKKuAHxs",
        "colab_type": "code",
        "colab": {},
        "outputId": "7fc87c72-c847-44a2-c1b8-451cb13c6d00"
      },
      "source": [
        "array_2d[1:,1:]"
      ],
      "execution_count": 0,
      "outputs": [
        {
          "output_type": "execute_result",
          "data": {
            "text/plain": [
              "array([[25, 30],\n",
              "       [49, 29]])"
            ]
          },
          "metadata": {
            "tags": []
          },
          "execution_count": 91
        }
      ]
    },
    {
      "cell_type": "code",
      "metadata": {
        "id": "7_Yd4voqAHxu",
        "colab_type": "code",
        "colab": {}
      },
      "source": [
        "b = np.array([(1.5,2,3), (4,5,6)], dtype = float) ##convert other non float to float"
      ],
      "execution_count": 0,
      "outputs": []
    },
    {
      "cell_type": "code",
      "metadata": {
        "id": "pa_qYHVyAHxv",
        "colab_type": "code",
        "colab": {
          "base_uri": "https://localhost:8080/",
          "height": 51
        },
        "outputId": "2f4ccd16-5ab4-4786-cf81-b25e7b961376"
      },
      "source": [
        "b"
      ],
      "execution_count": 32,
      "outputs": [
        {
          "output_type": "execute_result",
          "data": {
            "text/plain": [
              "array([[1.5, 2. , 3. ],\n",
              "       [4. , 5. , 6. ]])"
            ]
          },
          "metadata": {
            "tags": []
          },
          "execution_count": 32
        }
      ]
    },
    {
      "cell_type": "code",
      "metadata": {
        "id": "uiQVdeizAHxw",
        "colab_type": "code",
        "colab": {}
      },
      "source": [
        "#### three dim arrary"
      ],
      "execution_count": 0,
      "outputs": []
    },
    {
      "cell_type": "code",
      "metadata": {
        "id": "fMDJbS4uAHxx",
        "colab_type": "code",
        "colab": {}
      },
      "source": [
        "threeD_array = np.arange(27).reshape(3,3,3)"
      ],
      "execution_count": 0,
      "outputs": []
    },
    {
      "cell_type": "code",
      "metadata": {
        "id": "woYQx8VfAHxx",
        "colab_type": "code",
        "colab": {
          "base_uri": "https://localhost:8080/",
          "height": 204
        },
        "outputId": "399dce3f-1111-4ddb-9bb7-4be06fa2f6e3"
      },
      "source": [
        "threeD_array        #### watch for number of square brackets in the resulting list"
      ],
      "execution_count": 34,
      "outputs": [
        {
          "output_type": "execute_result",
          "data": {
            "text/plain": [
              "array([[[ 0,  1,  2],\n",
              "        [ 3,  4,  5],\n",
              "        [ 6,  7,  8]],\n",
              "\n",
              "       [[ 9, 10, 11],\n",
              "        [12, 13, 14],\n",
              "        [15, 16, 17]],\n",
              "\n",
              "       [[18, 19, 20],\n",
              "        [21, 22, 23],\n",
              "        [24, 25, 26]]])"
            ]
          },
          "metadata": {
            "tags": []
          },
          "execution_count": 34
        }
      ]
    },
    {
      "cell_type": "code",
      "metadata": {
        "id": "OXy-C4C3AHx4",
        "colab_type": "code",
        "colab": {}
      },
      "source": [
        "##selecting elements from the array"
      ],
      "execution_count": 0,
      "outputs": []
    },
    {
      "cell_type": "code",
      "metadata": {
        "id": "nrDE692BAHx5",
        "colab_type": "code",
        "colab": {
          "base_uri": "https://localhost:8080/",
          "height": 68
        },
        "outputId": "3aa00527-364c-4fbd-f919-b9353cef1ea6"
      },
      "source": [
        "print(my_arr1)\n",
        "my_arr1[20]"
      ],
      "execution_count": 40,
      "outputs": [
        {
          "output_type": "stream",
          "text": [
            "[ 0  1  2  3  4  5  6  7  8  9 10 11 12 13 14 15 16 17 18 19 20 21 22 23\n",
            " 24]\n"
          ],
          "name": "stdout"
        },
        {
          "output_type": "execute_result",
          "data": {
            "text/plain": [
              "20"
            ]
          },
          "metadata": {
            "tags": []
          },
          "execution_count": 40
        }
      ]
    },
    {
      "cell_type": "code",
      "metadata": {
        "id": "pw3e_j_zAHx6",
        "colab_type": "code",
        "colab": {
          "base_uri": "https://localhost:8080/",
          "height": 34
        },
        "outputId": "87339c64-5aae-4f6a-c356-0935322d7cc5"
      },
      "source": [
        "my_arr1[1:5]   ##3 always returns one less than the end item (5) "
      ],
      "execution_count": 41,
      "outputs": [
        {
          "output_type": "execute_result",
          "data": {
            "text/plain": [
              "array([1, 2, 3, 4])"
            ]
          },
          "metadata": {
            "tags": []
          },
          "execution_count": 41
        }
      ]
    },
    {
      "cell_type": "code",
      "metadata": {
        "id": "OJOvTIMWAHx7",
        "colab_type": "code",
        "colab": {
          "base_uri": "https://localhost:8080/",
          "height": 34
        },
        "outputId": "b1c73348-fb23-4600-8e29-686eb173716a"
      },
      "source": [
        "my_arr1[2:5]   ## returns elements of 1st row from 2nd index (0,1,2) to 5th index. 5th excluded"
      ],
      "execution_count": 42,
      "outputs": [
        {
          "output_type": "execute_result",
          "data": {
            "text/plain": [
              "array([2, 3, 4])"
            ]
          },
          "metadata": {
            "tags": []
          },
          "execution_count": 42
        }
      ]
    },
    {
      "cell_type": "code",
      "metadata": {
        "id": "ulWjtZJ9AHx8",
        "colab_type": "code",
        "colab": {
          "base_uri": "https://localhost:8080/",
          "height": 34
        },
        "outputId": "1f23366b-5727-4621-fcd5-9526b7438577"
      },
      "source": [
        "my_arr1[:9]   # selects everthting upto index 9"
      ],
      "execution_count": 43,
      "outputs": [
        {
          "output_type": "execute_result",
          "data": {
            "text/plain": [
              "array([0, 1, 2, 3, 4, 5, 6, 7, 8])"
            ]
          },
          "metadata": {
            "tags": []
          },
          "execution_count": 43
        }
      ]
    },
    {
      "cell_type": "code",
      "metadata": {
        "id": "qcwrXfCUAHx9",
        "colab_type": "code",
        "colab": {
          "base_uri": "https://localhost:8080/",
          "height": 51
        },
        "outputId": "be0faf33-71d7-449a-e5eb-aafbe550f580"
      },
      "source": [
        "my_arr1[0:] # selects everything from index 0"
      ],
      "execution_count": 44,
      "outputs": [
        {
          "output_type": "execute_result",
          "data": {
            "text/plain": [
              "array([ 0,  1,  2,  3,  4,  5,  6,  7,  8,  9, 10, 11, 12, 13, 14, 15, 16,\n",
              "       17, 18, 19, 20, 21, 22, 23, 24])"
            ]
          },
          "metadata": {
            "tags": []
          },
          "execution_count": 44
        }
      ]
    },
    {
      "cell_type": "code",
      "metadata": {
        "id": "F_LdaL5dAHx-",
        "colab_type": "code",
        "colab": {
          "base_uri": "https://localhost:8080/",
          "height": 51
        },
        "outputId": "71c794f0-1dba-4469-fdeb-defb1dbcad1b"
      },
      "source": [
        "my_arr1[5:]  ## select everything beyond index 5 ..note value 4 is in index 5 here"
      ],
      "execution_count": 45,
      "outputs": [
        {
          "output_type": "execute_result",
          "data": {
            "text/plain": [
              "array([ 5,  6,  7,  8,  9, 10, 11, 12, 13, 14, 15, 16, 17, 18, 19, 20, 21,\n",
              "       22, 23, 24])"
            ]
          },
          "metadata": {
            "tags": []
          },
          "execution_count": 45
        }
      ]
    },
    {
      "cell_type": "code",
      "metadata": {
        "id": "cqOEG-FTAHyA",
        "colab_type": "code",
        "colab": {}
      },
      "source": [
        "my_arr_3 = np.arange(25)"
      ],
      "execution_count": 0,
      "outputs": []
    },
    {
      "cell_type": "code",
      "metadata": {
        "id": "MGFS81AdAHyB",
        "colab_type": "code",
        "colab": {},
        "outputId": "f53ab420-0a7e-484b-988d-73182e1e15aa"
      },
      "source": [
        "my_arr_3"
      ],
      "execution_count": 0,
      "outputs": [
        {
          "output_type": "execute_result",
          "data": {
            "text/plain": [
              "array([ 0,  1,  2,  3,  4,  5,  6,  7,  8,  9, 10, 11, 12, 13, 14, 15, 16,\n",
              "       17, 18, 19, 20, 21, 22, 23, 24])"
            ]
          },
          "metadata": {
            "tags": []
          },
          "execution_count": 186
        }
      ]
    },
    {
      "cell_type": "code",
      "metadata": {
        "id": "-s9RMq6HAHyB",
        "colab_type": "code",
        "colab": {}
      },
      "source": [
        "slice_my_arr3 = my_arr_3[1:5]"
      ],
      "execution_count": 0,
      "outputs": []
    },
    {
      "cell_type": "code",
      "metadata": {
        "id": "jpzWHKoNAHyC",
        "colab_type": "code",
        "colab": {},
        "outputId": "3557ccac-dce5-43de-8174-9e842214e86a"
      },
      "source": [
        "slice_my_arr3"
      ],
      "execution_count": 0,
      "outputs": [
        {
          "output_type": "execute_result",
          "data": {
            "text/plain": [
              "array([1, 2, 3, 4])"
            ]
          },
          "metadata": {
            "tags": []
          },
          "execution_count": 189
        }
      ]
    },
    {
      "cell_type": "code",
      "metadata": {
        "id": "-X8h1WGaAHyD",
        "colab_type": "code",
        "colab": {}
      },
      "source": [
        "my_arr_3[1:5] = 100 "
      ],
      "execution_count": 0,
      "outputs": []
    },
    {
      "cell_type": "code",
      "metadata": {
        "id": "y-fUX8BXAHyD",
        "colab_type": "code",
        "colab": {},
        "outputId": "2434c69b-9a23-4cfd-9003-a4b5dedf9e7e"
      },
      "source": [
        "my_arr_3"
      ],
      "execution_count": 0,
      "outputs": [
        {
          "output_type": "execute_result",
          "data": {
            "text/plain": [
              "array([  0, 100, 100, 100, 100,   5,   6,   7,   8,   9,  10,  11,  12,\n",
              "        13,  14,  15,  16,  17,  18,  19,  20,  21,  22,  23,  24])"
            ]
          },
          "metadata": {
            "tags": []
          },
          "execution_count": 192
        }
      ]
    },
    {
      "cell_type": "code",
      "metadata": {
        "id": "Jqr4RAPHAHyE",
        "colab_type": "code",
        "colab": {},
        "outputId": "7cf03912-c416-45e1-d219-bc9cdebd925d"
      },
      "source": [
        "slice_my_arr3"
      ],
      "execution_count": 0,
      "outputs": [
        {
          "output_type": "execute_result",
          "data": {
            "text/plain": [
              "array([100, 100, 100, 100])"
            ]
          },
          "metadata": {
            "tags": []
          },
          "execution_count": 193
        }
      ]
    },
    {
      "cell_type": "code",
      "metadata": {
        "id": "tH0Lki_4AHyF",
        "colab_type": "code",
        "colab": {},
        "outputId": "dcbbbaea-dab2-46de-a3ac-b64be85c1d85"
      },
      "source": [
        "my_arr_4 = np.arange(30)\n",
        "print(my_arr_4)"
      ],
      "execution_count": 0,
      "outputs": [
        {
          "output_type": "stream",
          "text": [
            "[ 0  1  2  3  4  5  6  7  8  9 10 11 12 13 14 15 16 17 18 19 20 21 22 23\n",
            " 24 25 26 27 28 29]\n"
          ],
          "name": "stdout"
        }
      ]
    },
    {
      "cell_type": "code",
      "metadata": {
        "id": "q45yxlzSAHyG",
        "colab_type": "code",
        "colab": {},
        "outputId": "866c3378-67e9-4985-9956-5d2f41b399c9"
      },
      "source": [
        "slice_arr4 = my_arr_4[0:6]\n",
        "print(slice_arr4)"
      ],
      "execution_count": 0,
      "outputs": [
        {
          "output_type": "stream",
          "text": [
            "[0 1 2 3 4 5]\n"
          ],
          "name": "stdout"
        }
      ]
    },
    {
      "cell_type": "code",
      "metadata": {
        "id": "gFIbOyWqAHyG",
        "colab_type": "code",
        "colab": {},
        "outputId": "8586f926-849c-4898-c341-ad84f0acf1ed"
      },
      "source": [
        "my_arr_4[0:6] = 500   ##\n",
        "print(my_arr_4)"
      ],
      "execution_count": 0,
      "outputs": [
        {
          "output_type": "stream",
          "text": [
            "[500 500 500 500 500 500   6   7   8   9  10  11  12  13  14  15  16  17\n",
            "  18  19  20  21  22  23  24  25  26  27  28  29]\n"
          ],
          "name": "stdout"
        }
      ]
    },
    {
      "cell_type": "code",
      "metadata": {
        "id": "H4dklmniAHyH",
        "colab_type": "code",
        "colab": {},
        "outputId": "21948d93-f8e0-485d-988d-4bfa5792df08"
      },
      "source": [
        "print(slice_arr4)"
      ],
      "execution_count": 0,
      "outputs": [
        {
          "output_type": "stream",
          "text": [
            "[500 500 500 500 500 500]\n"
          ],
          "name": "stdout"
        }
      ]
    },
    {
      "cell_type": "code",
      "metadata": {
        "id": "z51WcZ70AHyI",
        "colab_type": "code",
        "colab": {},
        "outputId": "43320711-a949-4afc-9edb-f08c4a987e1e"
      },
      "source": [
        "slice_my_arr3"
      ],
      "execution_count": 0,
      "outputs": [
        {
          "output_type": "execute_result",
          "data": {
            "text/plain": [
              "array([100, 100, 100, 100])"
            ]
          },
          "metadata": {
            "tags": []
          },
          "execution_count": 124
        }
      ]
    },
    {
      "cell_type": "code",
      "metadata": {
        "id": "AX5V_skQAHyJ",
        "colab_type": "code",
        "colab": {}
      },
      "source": [
        "##broadcasting"
      ],
      "execution_count": 0,
      "outputs": []
    },
    {
      "cell_type": "code",
      "metadata": {
        "id": "p6UoTxdzAHyK",
        "colab_type": "code",
        "colab": {}
      },
      "source": [
        "my_arr1[0:5] = 999  ### broadcasts all the elements upto index 5 to 999"
      ],
      "execution_count": 0,
      "outputs": []
    },
    {
      "cell_type": "code",
      "metadata": {
        "id": "g-wZvcW9AHyM",
        "colab_type": "code",
        "colab": {}
      },
      "source": [
        "slice_my_arr = my_arr1[-1]  "
      ],
      "execution_count": 0,
      "outputs": []
    },
    {
      "cell_type": "code",
      "metadata": {
        "id": "kFzRyVpRAHyM",
        "colab_type": "code",
        "colab": {},
        "outputId": "d486fb6b-1696-408e-e0d0-02e237eddda4"
      },
      "source": [
        "my_arr1"
      ],
      "execution_count": 0,
      "outputs": [
        {
          "output_type": "execute_result",
          "data": {
            "text/plain": [
              "array([999, 999, 999, 999, 999,   5,   6,   7,   8,   9,  10,  11,  12,\n",
              "        13,  14,  15,  16,  17,  18,  19,  20,  21,  22,  23,  24])"
            ]
          },
          "metadata": {
            "tags": []
          },
          "execution_count": 201
        }
      ]
    },
    {
      "cell_type": "code",
      "metadata": {
        "id": "LL-j3GdvAHyN",
        "colab_type": "code",
        "colab": {},
        "outputId": "74322527-f460-4cd6-816c-5768b0b47eef"
      },
      "source": [
        "slice_my_arr"
      ],
      "execution_count": 0,
      "outputs": [
        {
          "output_type": "execute_result",
          "data": {
            "text/plain": [
              "24"
            ]
          },
          "metadata": {
            "tags": []
          },
          "execution_count": 199
        }
      ]
    },
    {
      "cell_type": "code",
      "metadata": {
        "id": "orm201_SAHyO",
        "colab_type": "code",
        "colab": {},
        "outputId": "a9320049-b9d3-4150-c2cc-c0ea22c68dd2"
      },
      "source": [
        "my_arr1   ### note that the change done to slice_my_arr has also impacted my_arr"
      ],
      "execution_count": 0,
      "outputs": [
        {
          "output_type": "execute_result",
          "data": {
            "text/plain": [
              "array([999, 999, 999, 999, 999,   5,   6,   7,   8,   9,  10,  11,  12,\n",
              "        13,  14,  15,  16,  17,  18,  19,  20,  21,  22,  23,  24])"
            ]
          },
          "metadata": {
            "tags": []
          },
          "execution_count": 112
        }
      ]
    },
    {
      "cell_type": "code",
      "metadata": {
        "id": "hdfE9vliAHyO",
        "colab_type": "code",
        "colab": {},
        "outputId": "c16d8f21-b4f1-4322-e61d-f156664f596f"
      },
      "source": [
        "copy_my_arr = my_arr1.copy()   ### copies my_arr to copy_my_arr\n",
        "copy_my_arr"
      ],
      "execution_count": 0,
      "outputs": [
        {
          "output_type": "execute_result",
          "data": {
            "text/plain": [
              "array([999, 999, 999, 999, 999,   5,   6,   7,   8,   9,  10,  11,  12,\n",
              "        13,  14,  15,  16,  17,  18,  19,  20,  21,  22,  23,  24])"
            ]
          },
          "metadata": {
            "tags": []
          },
          "execution_count": 203
        }
      ]
    },
    {
      "cell_type": "code",
      "metadata": {
        "id": "BHEH52F7AHyP",
        "colab_type": "code",
        "colab": {},
        "outputId": "2747e48a-46eb-44d2-ccd9-bb0931868db1"
      },
      "source": [
        "copy_my_arr[:] = 999\n",
        "copy_my_arr"
      ],
      "execution_count": 0,
      "outputs": [
        {
          "output_type": "execute_result",
          "data": {
            "text/plain": [
              "array([999, 999, 999, 999, 999, 999, 999, 999, 999, 999, 999, 999, 999,\n",
              "       999, 999, 999, 999, 999, 999, 999, 999, 999, 999, 999, 999])"
            ]
          },
          "metadata": {
            "tags": []
          },
          "execution_count": 205
        }
      ]
    },
    {
      "cell_type": "code",
      "metadata": {
        "id": "bk99C1J4AHyQ",
        "colab_type": "code",
        "colab": {},
        "outputId": "31f6022f-bdd8-4a98-85fe-8886a31c8ab3"
      },
      "source": [
        "my_arr1     ## no change"
      ],
      "execution_count": 0,
      "outputs": [
        {
          "output_type": "execute_result",
          "data": {
            "text/plain": [
              "array([999, 999, 999, 999, 999,   5,   6,   7,   8,   9,  10,  11,  12,\n",
              "        13,  14,  15,  16,  17,  18,  19,  20,  21,  22,  23,  24])"
            ]
          },
          "metadata": {
            "tags": []
          },
          "execution_count": 206
        }
      ]
    },
    {
      "cell_type": "code",
      "metadata": {
        "id": "OYlPc4nsAHyQ",
        "colab_type": "code",
        "colab": {}
      },
      "source": [
        "### creating 2d arrays"
      ],
      "execution_count": 0,
      "outputs": []
    },
    {
      "cell_type": "code",
      "metadata": {
        "id": "XzSE0KpeAHyR",
        "colab_type": "code",
        "colab": {}
      },
      "source": [
        "my_arr_2d = np.arange(50)"
      ],
      "execution_count": 0,
      "outputs": []
    },
    {
      "cell_type": "code",
      "metadata": {
        "id": "z2gQ4H6BAHyR",
        "colab_type": "code",
        "colab": {},
        "outputId": "7b62639f-fe06-421d-ccd2-69d75589cbc0"
      },
      "source": [
        "my_arr_2d"
      ],
      "execution_count": 0,
      "outputs": [
        {
          "output_type": "execute_result",
          "data": {
            "text/plain": [
              "array([ 0,  1,  2,  3,  4,  5,  6,  7,  8,  9, 10, 11, 12, 13, 14, 15, 16,\n",
              "       17, 18, 19, 20, 21, 22, 23, 24, 25, 26, 27, 28, 29, 30, 31, 32, 33,\n",
              "       34, 35, 36, 37, 38, 39, 40, 41, 42, 43, 44, 45, 46, 47, 48, 49])"
            ]
          },
          "metadata": {
            "tags": []
          },
          "execution_count": 208
        }
      ]
    },
    {
      "cell_type": "code",
      "metadata": {
        "id": "3NJo5qxuAHyS",
        "colab_type": "code",
        "colab": {
          "base_uri": "https://localhost:8080/",
          "height": 102
        },
        "outputId": "49be94d1-29f2-4f91-9908-d5cfa80938b1"
      },
      "source": [
        "my_arr_2d =np.arange(50).reshape(5,10)\n",
        "my_arr_2d"
      ],
      "execution_count": 49,
      "outputs": [
        {
          "output_type": "execute_result",
          "data": {
            "text/plain": [
              "array([[ 0,  1,  2,  3,  4,  5,  6,  7,  8,  9],\n",
              "       [10, 11, 12, 13, 14, 15, 16, 17, 18, 19],\n",
              "       [20, 21, 22, 23, 24, 25, 26, 27, 28, 29],\n",
              "       [30, 31, 32, 33, 34, 35, 36, 37, 38, 39],\n",
              "       [40, 41, 42, 43, 44, 45, 46, 47, 48, 49]])"
            ]
          },
          "metadata": {
            "tags": []
          },
          "execution_count": 49
        }
      ]
    },
    {
      "cell_type": "code",
      "metadata": {
        "id": "ek13CffSAHyS",
        "colab_type": "code",
        "colab": {},
        "outputId": "0dcb5b12-7b2e-4b8c-b69a-ef67c4b13abd"
      },
      "source": [
        "#my_arr_2d=np.arange(50)\n",
        "#my_arr_2d.reshape(5,10)"
      ],
      "execution_count": 0,
      "outputs": [
        {
          "output_type": "execute_result",
          "data": {
            "text/plain": [
              "array([[ 0,  1,  2,  3,  4,  5,  6,  7,  8,  9],\n",
              "       [10, 11, 12, 13, 14, 15, 16, 17, 18, 19],\n",
              "       [20, 21, 22, 23, 24, 25, 26, 27, 28, 29],\n",
              "       [30, 31, 32, 33, 34, 35, 36, 37, 38, 39],\n",
              "       [40, 41, 42, 43, 44, 45, 46, 47, 48, 49]])"
            ]
          },
          "metadata": {
            "tags": []
          },
          "execution_count": 219
        }
      ]
    },
    {
      "cell_type": "code",
      "metadata": {
        "id": "d34Kl-eoAHyU",
        "colab_type": "code",
        "colab": {},
        "outputId": "04cff7ad-c3db-49af-febf-b7355e5e0e7f"
      },
      "source": [
        "my_arr_2d    ### a 2 dimensional array or matrix is created by first using arange function and then \n",
        "             #####            reshaping the array to a matrix"
      ],
      "execution_count": 0,
      "outputs": [
        {
          "output_type": "execute_result",
          "data": {
            "text/plain": [
              "array([[ 0,  1,  2,  3,  4,  5,  6,  7,  8,  9],\n",
              "       [10, 11, 12, 13, 14, 15, 16, 17, 18, 19],\n",
              "       [20, 21, 22, 23, 24, 25, 26, 27, 28, 29],\n",
              "       [30, 31, 32, 33, 34, 35, 36, 37, 38, 39],\n",
              "       [40, 41, 42, 43, 44, 45, 46, 47, 48, 49]])"
            ]
          },
          "metadata": {
            "tags": []
          },
          "execution_count": 222
        }
      ]
    },
    {
      "cell_type": "code",
      "metadata": {
        "id": "Ygp5j_q2AHyV",
        "colab_type": "code",
        "colab": {},
        "outputId": "a1ed387b-7a7d-4aeb-fe57-820e88e9238e"
      },
      "source": [
        "my_arr_2d[0][0]   ### double bracket notation. gives me value in 1st row 1st col"
      ],
      "execution_count": 0,
      "outputs": [
        {
          "output_type": "execute_result",
          "data": {
            "text/plain": [
              "0"
            ]
          },
          "metadata": {
            "tags": []
          },
          "execution_count": 211
        }
      ]
    },
    {
      "cell_type": "code",
      "metadata": {
        "id": "gtbP6hmwAHyV",
        "colab_type": "code",
        "colab": {},
        "outputId": "a1b4c6c3-80c0-4492-f123-3255cdca39f1"
      },
      "source": [
        "my_arr_2d[0,0]     #### single bracket notation. recommended"
      ],
      "execution_count": 0,
      "outputs": [
        {
          "output_type": "execute_result",
          "data": {
            "text/plain": [
              "0"
            ]
          },
          "metadata": {
            "tags": []
          },
          "execution_count": 212
        }
      ]
    },
    {
      "cell_type": "code",
      "metadata": {
        "id": "7xXIq9_1AHyW",
        "colab_type": "code",
        "colab": {},
        "outputId": "afe52995-292f-4f32-9871-4d782761ef66"
      },
      "source": [
        "my_arr_2d[0]    ### returns the entire 1st row "
      ],
      "execution_count": 0,
      "outputs": [
        {
          "output_type": "execute_result",
          "data": {
            "text/plain": [
              "array([0, 1, 2, 3, 4, 5, 6, 7, 8, 9])"
            ]
          },
          "metadata": {
            "tags": []
          },
          "execution_count": 223
        }
      ]
    },
    {
      "cell_type": "code",
      "metadata": {
        "id": "fj5zDhVWAHyX",
        "colab_type": "code",
        "colab": {},
        "outputId": "0b4d0387-637c-4c39-e4d3-86781f851d5a"
      },
      "source": [
        "my_arr_2d[1,1]   ## returns the value in the 2nd row 2nd col (remember everything starts with 0)"
      ],
      "execution_count": 0,
      "outputs": [
        {
          "output_type": "execute_result",
          "data": {
            "text/plain": [
              "11"
            ]
          },
          "metadata": {
            "tags": []
          },
          "execution_count": 224
        }
      ]
    },
    {
      "cell_type": "code",
      "metadata": {
        "id": "ulU_sHGNAHyY",
        "colab_type": "code",
        "colab": {},
        "outputId": "cf28ab87-eb5a-4ed8-f259-364db28e50e5"
      },
      "source": [
        "my_arr_2d[1][1]   ### gives the same answer as above, but this is double bracket notation"
      ],
      "execution_count": 0,
      "outputs": [
        {
          "output_type": "execute_result",
          "data": {
            "text/plain": [
              "11"
            ]
          },
          "metadata": {
            "tags": []
          },
          "execution_count": 225
        }
      ]
    },
    {
      "cell_type": "code",
      "metadata": {
        "id": "N6i5569MAHyY",
        "colab_type": "code",
        "colab": {},
        "outputId": "d47a4eb5-b63f-4d4f-d03c-03b6c49dcbb0"
      },
      "source": [
        "my_arr_2d[:2]"
      ],
      "execution_count": 0,
      "outputs": [
        {
          "output_type": "execute_result",
          "data": {
            "text/plain": [
              "array([[ 0,  1,  2,  3,  4,  5,  6,  7,  8,  9],\n",
              "       [10, 11, 12, 13, 14, 15, 16, 17, 18, 19]])"
            ]
          },
          "metadata": {
            "tags": []
          },
          "execution_count": 228
        }
      ]
    },
    {
      "cell_type": "code",
      "metadata": {
        "id": "PTSH0L4vAHyZ",
        "colab_type": "code",
        "colab": {},
        "outputId": "0126344d-3ef8-414f-c669-43f4814ec5a2"
      },
      "source": [
        "my_arr_2d"
      ],
      "execution_count": 0,
      "outputs": [
        {
          "output_type": "execute_result",
          "data": {
            "text/plain": [
              "array([[ 0,  1,  2,  3,  4,  5,  6,  7,  8,  9],\n",
              "       [10, 11, 12, 13, 14, 15, 16, 17, 18, 19],\n",
              "       [20, 21, 22, 23, 24, 25, 26, 27, 28, 29],\n",
              "       [30, 31, 32, 33, 34, 35, 36, 37, 38, 39],\n",
              "       [40, 41, 42, 43, 44, 45, 46, 47, 48, 49]])"
            ]
          },
          "metadata": {
            "tags": []
          },
          "execution_count": 229
        }
      ]
    },
    {
      "cell_type": "code",
      "metadata": {
        "id": "cCC0HmqkAHya",
        "colab_type": "code",
        "colab": {},
        "outputId": "f0d5da5d-43db-4c0f-e953-1d75e8c2975a"
      },
      "source": [
        "my_arr_2d [1:2,1:10]"
      ],
      "execution_count": 0,
      "outputs": [
        {
          "output_type": "execute_result",
          "data": {
            "text/plain": [
              "array([[11, 12, 13, 14, 15, 16, 17, 18, 19]])"
            ]
          },
          "metadata": {
            "tags": []
          },
          "execution_count": 230
        }
      ]
    },
    {
      "cell_type": "code",
      "metadata": {
        "id": "aQ0EbrafAHya",
        "colab_type": "code",
        "colab": {},
        "outputId": "a5178a1c-eab9-4ef5-9233-fb85cfb1dcab"
      },
      "source": [
        "my_arr_2d[0:5,3:10]"
      ],
      "execution_count": 0,
      "outputs": [
        {
          "output_type": "execute_result",
          "data": {
            "text/plain": [
              "array([[ 3,  4,  5,  6,  7,  8,  9],\n",
              "       [13, 14, 15, 16, 17, 18, 19],\n",
              "       [23, 24, 25, 26, 27, 28, 29],\n",
              "       [33, 34, 35, 36, 37, 38, 39],\n",
              "       [43, 44, 45, 46, 47, 48, 49]])"
            ]
          },
          "metadata": {
            "tags": []
          },
          "execution_count": 231
        }
      ]
    },
    {
      "cell_type": "code",
      "metadata": {
        "id": "Wst2Rp5_AHyb",
        "colab_type": "code",
        "colab": {},
        "outputId": "799d456f-857b-4104-db49-d2f2533b9a9e"
      },
      "source": [
        "my_arr_2d[0:5,0:10]"
      ],
      "execution_count": 0,
      "outputs": [
        {
          "output_type": "execute_result",
          "data": {
            "text/plain": [
              "array([[ 0,  1,  2,  3,  4,  5,  6,  7,  8,  9],\n",
              "       [10, 11, 12, 13, 14, 15, 16, 17, 18, 19],\n",
              "       [20, 21, 22, 23, 24, 25, 26, 27, 28, 29],\n",
              "       [30, 31, 32, 33, 34, 35, 36, 37, 38, 39],\n",
              "       [40, 41, 42, 43, 44, 45, 46, 47, 48, 49]])"
            ]
          },
          "metadata": {
            "tags": []
          },
          "execution_count": 232
        }
      ]
    },
    {
      "cell_type": "code",
      "metadata": {
        "id": "ELUnCTFZAHyc",
        "colab_type": "code",
        "colab": {},
        "outputId": "4617b023-4509-4002-e653-b655b38bd422"
      },
      "source": [
        "my_arr_2d[my_arr_2d < 47]  ### gives me everything less than 47\n",
        "#my_arr_2d < 47  ### gives me everything less than 47"
      ],
      "execution_count": 0,
      "outputs": [
        {
          "output_type": "execute_result",
          "data": {
            "text/plain": [
              "array([ 0,  1,  2,  3,  4,  5,  6,  7,  8,  9, 10, 11, 12, 13, 14, 15, 16,\n",
              "       17, 18, 19, 20, 21, 22, 23, 24, 25, 26, 27, 28, 29, 30, 31, 32, 33,\n",
              "       34, 35, 36, 37, 38, 39, 40, 41, 42, 43, 44, 45, 46])"
            ]
          },
          "metadata": {
            "tags": []
          },
          "execution_count": 236
        }
      ]
    },
    {
      "cell_type": "code",
      "metadata": {
        "id": "STLqXnuXAHyc",
        "colab_type": "code",
        "colab": {},
        "outputId": "fb5fe63b-8f8b-446d-cb2d-89888a6ad9ab"
      },
      "source": [
        "my_arr_2d[my_arr_2d <=16]"
      ],
      "execution_count": 0,
      "outputs": [
        {
          "output_type": "execute_result",
          "data": {
            "text/plain": [
              "array([ 0,  1,  2,  3,  4,  5,  6,  7,  8,  9, 10, 11, 12, 13, 14, 15, 16])"
            ]
          },
          "metadata": {
            "tags": []
          },
          "execution_count": 234
        }
      ]
    },
    {
      "cell_type": "code",
      "metadata": {
        "id": "JsWNRKmpAHyd",
        "colab_type": "code",
        "colab": {}
      },
      "source": [
        ""
      ],
      "execution_count": 0,
      "outputs": []
    },
    {
      "cell_type": "code",
      "metadata": {
        "id": "B9VvUN45AHyd",
        "colab_type": "code",
        "colab": {}
      },
      "source": [
        ""
      ],
      "execution_count": 0,
      "outputs": []
    },
    {
      "cell_type": "code",
      "metadata": {
        "id": "6IsZTAQeAHye",
        "colab_type": "code",
        "colab": {}
      },
      "source": [
        ""
      ],
      "execution_count": 0,
      "outputs": []
    },
    {
      "cell_type": "code",
      "metadata": {
        "id": "R16pSBZ9AHye",
        "colab_type": "code",
        "colab": {}
      },
      "source": [
        "a"
      ],
      "execution_count": 0,
      "outputs": []
    },
    {
      "cell_type": "code",
      "metadata": {
        "id": "qZ1th65xAHyf",
        "colab_type": "code",
        "colab": {}
      },
      "source": [
        ""
      ],
      "execution_count": 0,
      "outputs": []
    },
    {
      "cell_type": "code",
      "metadata": {
        "id": "hcJ6Z5RBAHyf",
        "colab_type": "code",
        "colab": {}
      },
      "source": [
        ""
      ],
      "execution_count": 0,
      "outputs": []
    },
    {
      "cell_type": "code",
      "metadata": {
        "id": "CXOIoj3BAHyg",
        "colab_type": "code",
        "colab": {}
      },
      "source": [
        ""
      ],
      "execution_count": 0,
      "outputs": []
    },
    {
      "cell_type": "code",
      "metadata": {
        "id": "QTUI96VXAHyh",
        "colab_type": "code",
        "colab": {}
      },
      "source": [
        ""
      ],
      "execution_count": 0,
      "outputs": []
    },
    {
      "cell_type": "code",
      "metadata": {
        "id": "tcard0T1AHyh",
        "colab_type": "code",
        "colab": {}
      },
      "source": [
        "pwd"
      ],
      "execution_count": 0,
      "outputs": []
    },
    {
      "cell_type": "code",
      "metadata": {
        "id": "QOjo2Ys7AHyi",
        "colab_type": "code",
        "colab": {}
      },
      "source": [
        ""
      ],
      "execution_count": 0,
      "outputs": []
    },
    {
      "cell_type": "code",
      "metadata": {
        "id": "mJ_TuSmRAHyj",
        "colab_type": "code",
        "colab": {}
      },
      "source": [
        "my_list"
      ],
      "execution_count": 0,
      "outputs": []
    },
    {
      "cell_type": "code",
      "metadata": {
        "id": "Bg4xpSrsAHyj",
        "colab_type": "code",
        "colab": {}
      },
      "source": [
        ""
      ],
      "execution_count": 0,
      "outputs": []
    },
    {
      "cell_type": "code",
      "metadata": {
        "id": "JQB4lNELAHyk",
        "colab_type": "code",
        "colab": {}
      },
      "source": [
        ""
      ],
      "execution_count": 0,
      "outputs": []
    },
    {
      "cell_type": "code",
      "metadata": {
        "id": "9zgyrhh6AHyk",
        "colab_type": "code",
        "colab": {}
      },
      "source": [
        ""
      ],
      "execution_count": 0,
      "outputs": []
    },
    {
      "cell_type": "code",
      "metadata": {
        "id": "e7-Ox2cpAHyl",
        "colab_type": "code",
        "colab": {}
      },
      "source": [
        "nparr"
      ],
      "execution_count": 0,
      "outputs": []
    },
    {
      "cell_type": "code",
      "metadata": {
        "id": "DDGzCuoAAHyl",
        "colab_type": "code",
        "colab": {}
      },
      "source": [
        ""
      ],
      "execution_count": 0,
      "outputs": []
    },
    {
      "cell_type": "code",
      "metadata": {
        "id": "vntEljX1AHym",
        "colab_type": "code",
        "colab": {}
      },
      "source": [
        "my_matrix"
      ],
      "execution_count": 0,
      "outputs": []
    },
    {
      "cell_type": "code",
      "metadata": {
        "id": "tRRkAZHFAHym",
        "colab_type": "code",
        "colab": {}
      },
      "source": [
        "np.array(my_matrix)"
      ],
      "execution_count": 0,
      "outputs": []
    },
    {
      "cell_type": "code",
      "metadata": {
        "id": "75mcQi9CAHyn",
        "colab_type": "code",
        "colab": {}
      },
      "source": [
        "np.arange(0,11)"
      ],
      "execution_count": 0,
      "outputs": []
    },
    {
      "cell_type": "code",
      "metadata": {
        "id": "Cf1UxuAbAHyn",
        "colab_type": "code",
        "colab": {}
      },
      "source": [
        "np.floor"
      ],
      "execution_count": 0,
      "outputs": []
    },
    {
      "cell_type": "code",
      "metadata": {
        "id": "Kg1_8Gn4AHyo",
        "colab_type": "code",
        "colab": {}
      },
      "source": [
        ""
      ],
      "execution_count": 0,
      "outputs": []
    },
    {
      "cell_type": "code",
      "metadata": {
        "id": "0LPTT8Z0AHyo",
        "colab_type": "code",
        "colab": {}
      },
      "source": [
        "np.random.randn(10)          #### returns numbers from a standard normal distribution .keeps changing everytime you execute it"
      ],
      "execution_count": 0,
      "outputs": []
    },
    {
      "cell_type": "code",
      "metadata": {
        "id": "VsUIFjhNAHyp",
        "colab_type": "code",
        "colab": {}
      },
      "source": [
        "np.random.randn(4,4)        #### w dimensional random "
      ],
      "execution_count": 0,
      "outputs": []
    },
    {
      "cell_type": "code",
      "metadata": {
        "id": "z8EnC5UFAHyq",
        "colab_type": "code",
        "colab": {}
      },
      "source": [
        "np.random.randint(1,100,10)            #### low=1, high=100. high is exclusive, 10-gives number of random int \n",
        "                                       ##keeps changing between 1 and 100 everytime you execute it"
      ],
      "execution_count": 0,
      "outputs": []
    },
    {
      "cell_type": "code",
      "metadata": {
        "id": "SkfnetTiAHyr",
        "colab_type": "code",
        "colab": {}
      },
      "source": [
        "arr = np.arange(25)\n",
        "arr"
      ],
      "execution_count": 0,
      "outputs": []
    },
    {
      "cell_type": "code",
      "metadata": {
        "id": "4f8sEpuJAHys",
        "colab_type": "code",
        "colab": {}
      },
      "source": [
        "ranarr = np.random.randint(0,50,10)"
      ],
      "execution_count": 0,
      "outputs": []
    },
    {
      "cell_type": "code",
      "metadata": {
        "id": "8PlPAUBbAHys",
        "colab_type": "code",
        "colab": {}
      },
      "source": [
        "ranarr"
      ],
      "execution_count": 0,
      "outputs": []
    },
    {
      "cell_type": "code",
      "metadata": {
        "id": "9UzeJxjXAHyt",
        "colab_type": "code",
        "colab": {}
      },
      "source": [
        "# geenerate random numbers\n",
        "np.random.rand(5)"
      ],
      "execution_count": 0,
      "outputs": []
    },
    {
      "cell_type": "code",
      "metadata": {
        "id": "gwdlsArdAHyu",
        "colab_type": "code",
        "colab": {}
      },
      "source": [
        "np.random.rand(5,5)"
      ],
      "execution_count": 0,
      "outputs": []
    },
    {
      "cell_type": "code",
      "metadata": {
        "id": "P2_SdlgqAHyu",
        "colab_type": "code",
        "colab": {}
      },
      "source": [
        "## returns from normal dist or guassian dis\n",
        "np.random.randn(2)"
      ],
      "execution_count": 0,
      "outputs": []
    },
    {
      "cell_type": "code",
      "metadata": {
        "id": "zCNft1sGAHyv",
        "colab_type": "code",
        "colab": {}
      },
      "source": [
        "np.random.randn(2,2)"
      ],
      "execution_count": 0,
      "outputs": []
    },
    {
      "cell_type": "code",
      "metadata": {
        "id": "rmJp0YHgAHyw",
        "colab_type": "code",
        "colab": {}
      },
      "source": [
        "np.random.randint(1,100)   ### gives integer from low number to high number. low inclusive, high exclusive"
      ],
      "execution_count": 0,
      "outputs": []
    },
    {
      "cell_type": "code",
      "metadata": {
        "id": "169uu9-DAHyx",
        "colab_type": "code",
        "colab": {}
      },
      "source": [
        "np.random.randint(1,100,10)   ### gives me 10 random integers from low number to high numbner..low inc,.high excl\n"
      ],
      "execution_count": 0,
      "outputs": []
    },
    {
      "cell_type": "code",
      "metadata": {
        "id": "eBs2E9iiAHyx",
        "colab_type": "code",
        "colab": {}
      },
      "source": [
        "ranarr.max()"
      ],
      "execution_count": 0,
      "outputs": []
    },
    {
      "cell_type": "code",
      "metadata": {
        "id": "W4cOmHxDAHyy",
        "colab_type": "code",
        "colab": {}
      },
      "source": [
        "ranarr.min()"
      ],
      "execution_count": 0,
      "outputs": []
    },
    {
      "cell_type": "code",
      "metadata": {
        "id": "066_zX5fAHyz",
        "colab_type": "code",
        "colab": {}
      },
      "source": [
        "ranarr.argmax()            ### returns the index location of max value"
      ],
      "execution_count": 0,
      "outputs": []
    },
    {
      "cell_type": "code",
      "metadata": {
        "id": "GhpK9zN0AHy0",
        "colab_type": "code",
        "colab": {}
      },
      "source": [
        "ranarr.argmin()           ### returns the index location of min value"
      ],
      "execution_count": 0,
      "outputs": []
    },
    {
      "cell_type": "code",
      "metadata": {
        "id": "CiDldU7HAHy1",
        "colab_type": "code",
        "colab": {}
      },
      "source": [
        "##### hint\n",
        "#### instead of typing np.random.randint you can do the below\n",
        "from numpy.random import randint\n"
      ],
      "execution_count": 0,
      "outputs": []
    },
    {
      "cell_type": "code",
      "metadata": {
        "id": "q8qtuOx0AHy1",
        "colab_type": "code",
        "colab": {},
        "outputId": "d2897486-db18-4c18-a9c2-c324ed65b450"
      },
      "source": [
        "randint(2,10)"
      ],
      "execution_count": 0,
      "outputs": [
        {
          "output_type": "error",
          "ename": "NameError",
          "evalue": "name 'randint' is not defined",
          "traceback": [
            "\u001b[1;31m---------------------------------------------------------------------------\u001b[0m",
            "\u001b[1;31mNameError\u001b[0m                                 Traceback (most recent call last)",
            "\u001b[1;32m<ipython-input-139-1efdc80fe1b2>\u001b[0m in \u001b[0;36m<module>\u001b[1;34m()\u001b[0m\n\u001b[1;32m----> 1\u001b[1;33m \u001b[0mrandint\u001b[0m\u001b[1;33m(\u001b[0m\u001b[1;36m2\u001b[0m\u001b[1;33m,\u001b[0m\u001b[1;36m10\u001b[0m\u001b[1;33m)\u001b[0m\u001b[1;33m\u001b[0m\u001b[0m\n\u001b[0m",
            "\u001b[1;31mNameError\u001b[0m: name 'randint' is not defined"
          ]
        }
      ]
    },
    {
      "cell_type": "code",
      "metadata": {
        "id": "FLIg-m7uAHy2",
        "colab_type": "code",
        "colab": {}
      },
      "source": [
        "ranarr2 = np.arange(20) "
      ],
      "execution_count": 0,
      "outputs": []
    },
    {
      "cell_type": "code",
      "metadata": {
        "id": "_Ey9MWigAHy2",
        "colab_type": "code",
        "colab": {},
        "outputId": "25f8eb08-492f-4cb1-f9f5-07a4a2ef1577"
      },
      "source": [
        "ranarr2"
      ],
      "execution_count": 0,
      "outputs": [
        {
          "output_type": "execute_result",
          "data": {
            "text/plain": [
              "array([ 0,  1,  2,  3,  4,  5,  6,  7,  8,  9, 10, 11, 12, 13, 14, 15, 16,\n",
              "       17, 18, 19])"
            ]
          },
          "metadata": {
            "tags": []
          },
          "execution_count": 147
        }
      ]
    },
    {
      "cell_type": "code",
      "metadata": {
        "id": "wvY_RqShAHy3",
        "colab_type": "code",
        "colab": {},
        "outputId": "6707e060-fb1f-4720-d0b1-5396d3fb834c"
      },
      "source": [
        "np.floor(ranarr2)"
      ],
      "execution_count": 0,
      "outputs": [
        {
          "output_type": "execute_result",
          "data": {
            "text/plain": [
              "array([ 0.,  1.,  2.,  3.,  4.,  5.,  6.,  7.,  8.,  9., 10., 11., 12.,\n",
              "       13., 14., 15., 16., 17., 18., 19.])"
            ]
          },
          "metadata": {
            "tags": []
          },
          "execution_count": 152
        }
      ]
    },
    {
      "cell_type": "code",
      "metadata": {
        "id": "-KGpgKP5AHy4",
        "colab_type": "code",
        "colab": {}
      },
      "source": [
        ""
      ],
      "execution_count": 0,
      "outputs": []
    },
    {
      "cell_type": "code",
      "metadata": {
        "id": "H4VQNIbaAHy4",
        "colab_type": "code",
        "colab": {}
      },
      "source": [
        "ranarr3=np.arange(30)"
      ],
      "execution_count": 0,
      "outputs": []
    },
    {
      "cell_type": "code",
      "metadata": {
        "id": "j1WFiI_VAHy5",
        "colab_type": "code",
        "colab": {}
      },
      "source": [
        " np"
      ],
      "execution_count": 0,
      "outputs": []
    }
  ]
}